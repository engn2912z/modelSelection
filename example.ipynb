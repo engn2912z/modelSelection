{
 "cells": [
  {
   "cell_type": "code",
   "execution_count": 1,
   "metadata": {
    "collapsed": false
   },
   "outputs": [],
   "source": [
    "from engn2912Zdata import *"
   ]
  },
  {
   "cell_type": "code",
   "execution_count": 2,
   "metadata": {
    "collapsed": false
   },
   "outputs": [
    {
     "name": "stdout",
     "output_type": "stream",
     "text": [
      "regression_id: 2\n",
      "X shape: (100, 10)\n"
     ]
    }
   ],
   "source": [
    "dataset=requestDataset()\n",
    "print(\"regression_id:\",dataset[\"regression_id\"])\n",
    "print(\"X shape:\",dataset[\"X\"].shape)"
   ]
  },
  {
   "cell_type": "code",
   "execution_count": 3,
   "metadata": {
    "collapsed": false
   },
   "outputs": [],
   "source": [
    "reloadDataset??"
   ]
  },
  {
   "cell_type": "code",
   "execution_count": 4,
   "metadata": {
    "collapsed": false
   },
   "outputs": [
    {
     "name": "stdout",
     "output_type": "stream",
     "text": [
      "{'steps': [('linearregression', LinearRegression(copy_X=True, fit_intercept=True, n_jobs=1, normalize=False))], 'linearregression__copy_X': True, 'linearregression__normalize': False, 'linearregression': LinearRegression(copy_X=True, fit_intercept=True, n_jobs=1, normalize=False), 'linearregression__n_jobs': 1, 'linearregression__fit_intercept': True}\n",
      "Fitting 3 folds for each of 2 candidates, totalling 6 fits\n",
      "{'linearregression__normalize': True}\n"
     ]
    },
    {
     "name": "stderr",
     "output_type": "stream",
     "text": [
      "[Parallel(n_jobs=1)]: Done   6 out of   6 | elapsed:    0.0s finished\n"
     ]
    }
   ],
   "source": [
    "email= \"YOUR_EMAIL_GOES_HERE@brown.edu\" #REPLACE THIS !!!!\n",
    "\n",
    "dataset=requestDataset()\n",
    "\n",
    "from sklearn.linear_model import LinearRegression\n",
    "from sklearn.pipeline import make_pipeline,Pipeline\n",
    "from sklearn.model_selection import GridSearchCV\n",
    "\n",
    "pipeline=make_pipeline(LinearRegression())\n",
    "print(pipeline.get_params(deep=True))\n",
    "\n",
    "grid=GridSearchCV(pipeline,{'linearregression__normalize':[True,False]},verbose=1)\n",
    "grid.fit(dataset['X'],dataset['y'])\n",
    "print(grid.best_params_)\n",
    "\n",
    "submissionPipelineEstimator=grid.best_estimator_"
   ]
  },
  {
   "cell_type": "code",
   "execution_count": 5,
   "metadata": {
    "collapsed": false
   },
   "outputs": [
    {
     "data": {
      "text/plain": [
       "'R^2 = 0.854047, Great job. Your value matches the current best score.'"
      ]
     },
     "execution_count": 5,
     "metadata": {},
     "output_type": "execute_result"
    }
   ],
   "source": [
    "submitForGrading(submissionPipelineEstimator,dataset,email)"
   ]
  },
  {
   "cell_type": "code",
   "execution_count": null,
   "metadata": {
    "collapsed": true
   },
   "outputs": [],
   "source": []
  }
 ],
 "metadata": {
  "kernelspec": {
   "display_name": "Python [conda root]",
   "language": "python",
   "name": "conda-root-py"
  },
  "language_info": {
   "codemirror_mode": {
    "name": "ipython",
    "version": 3
   },
   "file_extension": ".py",
   "mimetype": "text/x-python",
   "name": "python",
   "nbconvert_exporter": "python",
   "pygments_lexer": "ipython3",
   "version": "3.5.2"
  }
 },
 "nbformat": 4,
 "nbformat_minor": 2
}
